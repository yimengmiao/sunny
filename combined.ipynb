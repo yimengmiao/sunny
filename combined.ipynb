{
 "cells": [
  {
   "cell_type": "code",
   "id": "initial_id",
   "metadata": {
    "collapsed": true,
    "ExecuteTime": {
     "end_time": "2024-07-04T07:43:12.224037Z",
     "start_time": "2024-07-04T07:43:11.994664Z"
    }
   },
   "source": [
    "import pandas as pd\n",
    "import os\n",
    "\n"
   ],
   "outputs": [],
   "execution_count": 1
  },
  {
   "metadata": {
    "ExecuteTime": {
     "end_time": "2024-07-04T07:48:38.310479Z",
     "start_time": "2024-07-04T07:48:38.167359Z"
    }
   },
   "cell_type": "code",
   "source": [
    "# 定义文件夹路径\n",
    "folder_path = \"LLM_train/LLM/data/2切割后的数据\"\n",
    "\n",
    "# 获取文件夹下所有的Excel文件\n",
    "excel_files = [f for f in os.listdir(folder_path) if f.endswith('.xlsx')]\n",
    "\n",
    "# 初始化一个空的DataFrame用于存储所有文件的数据\n",
    "combined_df = pd.DataFrame()\n",
    "\n",
    "# 遍历所有Excel文件并将它们的内容添加到combined_df中\n",
    "for file in excel_files:\n",
    "    file_path = os.path.join(folder_path, file)\n",
    "    df = pd.read_excel(file_path)\n",
    "    combined_df = pd.concat([combined_df, df], ignore_index=True)\n",
    "\n",
    "# 将合并后的DataFrame保存到一个新的Excel文件中\n",
    "output_file = \"LLM_train/LLM/data/2切割后的数据/combined.xlsx\"\n",
    "combined_df.to_excel(output_file, index=False)\n",
    "\n",
    "print(f\"所有Excel文件已经合并并保存到 {output_file}\")\n"
   ],
   "id": "e8013df623c73b27",
   "outputs": [
    {
     "name": "stdout",
     "output_type": "stream",
     "text": [
      "所有Excel文件已经合并并保存到 LLM_train/LLM/data/2切割后的数据/combined.xlsx\n"
     ]
    }
   ],
   "execution_count": 3
  },
  {
   "metadata": {},
   "cell_type": "code",
   "outputs": [],
   "execution_count": null,
   "source": "",
   "id": "5ad263630e19a776"
  }
 ],
 "metadata": {
  "kernelspec": {
   "display_name": "Python 3",
   "language": "python",
   "name": "python3"
  },
  "language_info": {
   "codemirror_mode": {
    "name": "ipython",
    "version": 2
   },
   "file_extension": ".py",
   "mimetype": "text/x-python",
   "name": "python",
   "nbconvert_exporter": "python",
   "pygments_lexer": "ipython2",
   "version": "2.7.6"
  }
 },
 "nbformat": 4,
 "nbformat_minor": 5
}
